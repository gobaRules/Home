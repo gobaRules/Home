{
 "cells": [
  {
   "cell_type": "markdown",
   "metadata": {},
   "source": [
    "# Introduction\n",
    "\n",
    "In recent years we hear a lot of news about wildfires occurring in areas where they did not occur often in past. In spring and summer 2018 we have witnessed the boreal forests in Siberia burning at extraordinary rates (https://www.sciencealert.com/nasa-images-capture-worst-siberian-wildfires-in-10-000-years), last summer the wildfires suddenly erupted in Portugal  (https://en.wikipedia.org/wiki/June_2017_Portugal_wildfires), and in September 2017 California, US was in flames, firefighter were fighting with more than 9000 fires (https://en.wikipedia.org/wiki/2017_California_wildfires).\n",
    "\n",
    "Wildfires have many negative consequences:\n",
    "- They can **damage** human properties.\n",
    "- They present a **treat for human health and lives**. In addition to the direct threat from burning, wildfires also release pollutants detrimental for human health and ecosystems. Close to the fires, smoke is a health risk because it contains a mixture of hazardous gases and small particles that can irritate the eyes and respiratory system.\n",
    "- Vegetation fires release large amounts of **particulate matter** and toxic gases including **carbon monoxide**, **nitrogen oxides**, and **non-methane organic compounds** into the atmosphere (https://public.wmo.int/en/media/news/drought-and-heat-exacerbate-wildfires). This contribute significantly to global warming.\n",
    "- Extinguishing of the fires is **risky and costly**.\n",
    "\n",
    "However, wildfires can also be beneficial. High-severity wildfire create complex early seral forest habitat (also called “snag forest habitat”), which often has higher species richness and diversity than in unburned old forest. E.g., giant sequoias, found in the U.S. Sierra Nevada, require heat from fire to regenerate (https://video.nationalgeographic.com/video/yosemite-sequoias-fire).\n",
    "\n",
    "While we cannot - and do no aim to - fully prevent wildfires it is important that we try to understand under what circumstances wildfires are most likely to appear, how they spread and what impact they have so that we can minimize their negative impacts. Usually we try to minimize the amount of flammable material either by igniting smaller fires (controlled burning) or by logging.\n"
   ]
  },
  {
   "cell_type": "markdown",
   "metadata": {},
   "source": [
    "# Wildfires and satellite imagery\n",
    "\n",
    "Satellite images are images acquired with sensors (cameras) carried on board of satellites. Images are taken from different satellites and in different parts of electromagnetic spectrum. This gives us various information about the Earth. It is a good source of different type of information about wildfires which can help us build our understanding of wildfires and plan (re)action to their occurrence accordingly. Advances in satellite technology has made it possible to monitor wildfire activity better than in the past (https://public.wmo.int/en/media/news/drought-and-heat-exacerbate-wildfires). Collecting the information about the fire on a field can be dangerous, while satellites enable us to get such information from (more than) safe distance. It also has the advantages of covering larger areas, gathering data on less accessible areas (Leblon, 2012), it is time and cost effective.\n",
    "\n",
    "Satellite imagery is, in connection to wildfires, commonly used to:\n",
    "\n",
    "1. Detect areas with high potential for wildfire occurrence. \n",
    "This is estimated based on vegetation maps, material (potential fuel) moisture maps both derived from satellite images. These maps are combined with other combination such as weather information and topography and distance from roads and settlements to produce fire risk maps (http://www.isprs.org/proceedings/XXXV/congress/yf/papers/927.pdf).\n",
    "2. Map areas with potential fires:\n",
    "Check the world map with potential fires form the latest satellite images:\n",
    "https://fires.globalforestwatch.org/map/#activeLayers=viirsFires%2CactiveFires%2CfireStories%2Ctwitter&activeBasemap=topo&activeImagery=&planetCategory=PLANET-MONTHLY&planetPeriod=Aug%202018&x=-12&y=18&z=3\n",
    "3. Observe extent and severity of burned scar \n",
    "4. Observe impact on vegetation and its recovery \n",
    "5. Observe impact on build areas. \n",
    "As an example, check how satellite images can be used to observe the burned villages in Africa: https://www.bellingcat.com/resources/how-tos/2018/09/04/identify-burnt-villages-satellite-imagery%e2%80%8a-case-studies-california-nigeria-myanmar/\n",
    "6. Observe spread of smoke and gases\n",
    "Check out how spread of smoke in case of wildfire sin California was captured from MODIS satellite https://www.nbcsandiego.com/news/national-international/NASA-Satellite-Images-California-Wildfire-Brush-Fires-Images-Photos-433867203.html\n",
    "\n",
    "\n",
    "We will now check how some of the wildfires and their consequences are seen from space. We will use images acquired from satellite Sentinel 2 to observe the consequences of wildfire at Madeira in summer 2016 and images acquired from Sentinel 2 and Sentinel S5p to observe wildfires in Siberia.\n"
   ]
  },
  {
   "cell_type": "markdown",
   "metadata": {
    "collapsed": true
   },
   "source": [
    "# Madeira, August 2016\n",
    "\n",
    "Madeira is a Portuguese island in Atlantic Ocean well known for its vivid vegetation and beautiful nature. In August 2016 flames of deadly fire spread throughout the region of Southern Madeira and to its capital Funchal. 4 people died, more than 200 houses were damaged, huge damage was reported also in botanical garden near the capital (https://www.madeiraislandnews.com/2016/08/fire-damage.html, 6.9.2018). \n",
    "\n",
    "Let’s check how the consequences of the fire were seen from Sentinel 2 satellite:\n",
    "\n",
    "<table>\n",
    "<tr>\n",
    "<td> <img src=\"images/2016-08-07, Sentinel-2A L1C, Custom script.png\" alt=\"Drawing\" style=\"width: 500px;\"/> </td>\n",
    "<td> <img src=\"images/Sentinel-2 L1C from 2016-08-17.png\" alt=\"Drawing\" style=\"width: 500px;\"/> </td>\n",
    "</tr>\n",
    "<tr>\n",
    "<td style=\"text-align:left\"> **Before wildfire**, true color image acquired from Sentinel 2 on 7.8.2016 (EO Browser link: https://apps.sentinel-hub.com/eo-browser/?lat=32.7524&lng=-17.0077&zoom=12&time=2016-08-07&preset=CUSTOM&datasource=Sentinel-2%20L1C&layers=B04,B03,B02&evalscript=cmV0dXJuIFtCMDQqMy41LEIwMyozLjUsQjAyKjMuNV07) </td>\n",
    "<td style=\"text-align:left\"> **After wildfire**, true color image acquired from Sentinel 2 on 17.8.2016 (EO Browser link: https://apps.sentinel-hub.com/eo-browser/?lat=32.7524&lng=-17.0077&zoom=12&time=2016-08-17&preset=CUSTOM&datasource=Sentinel-2%20L1C&layers=B04,B03,B02&evalscript=cmV0dXJuIFtCMDQqMy41LEIwMyozLjUsQjAyKjMuNV07) </td>\n",
    "</tr>\n",
    "</table>\n",
    "\n",
    "Two bigger burn scars can be observed on southern part of the island. It is difficult to distinguish them from surrounding un-burned areas, though. To make these areas even easier to detect we will visualize images acquired in near-infrared and short-wave infrared part of the spectrum. Healthy vegetation has a high reflectance in the near-infrared portion of the spectrum, while offering low short-wave infrared reflectance. On the other hand, burned areas have a high shortwave infrared reflectance but low reflectance in the near infrared (https://www.skywatch.co/blog/assessing-impact-wildfire-normalized-burn-ratio-satellite, 30.8.2018). To emphasize these differentce we will calculate Normalized Burn Ration (NBR) (http://gsp.humboldt.edu/olm_2015/Courses/GSP_216_Online/lesson5-1/NBR.html). \n",
    "\n",
    "<table>\n",
    "<tr>\n",
    "<td> <img src=\"images/2016-08-07, Sentinel-2A L1C, Custom script.png\" alt=\"Drawing\" style=\"width: 500px;\"/> </td>\n",
    "<td> <img src=\"images/Sentinel-2 L1C from 2016-08-17.png\" alt=\"Drawing\" style=\"width: 500px;\"/> </td>\n",
    "</tr>\n",
    "<tr>\n",
    "<td style=\"text-align:left\"> **Before wildfire**, NBR on 7.8.2016 (EO Browser link: ) </td>\n",
    "<td style=\"text-align:left\"> **After wildfire**, NBR on 17.8.2016 (EO Browser link: ) </td>\n",
    "</tr>\n",
    "</table>"
   ]
  },
  {
   "cell_type": "markdown",
   "metadata": {},
   "source": [
    "# Conclusions\n",
    "\n",
    "We have learnt that several aspects of wildfires and their influence on the environment can be observed from satellite images. We visualized and measured the extent of burned area and severity of burn scar for wildfire in Madeira. The same approach can be used for any other wildfire. We checked what was the influence on vegetation and how long it took it to recover by inspecting NDVI. We also checked how the smoke and CO spread form the fires in Siberia earlier this year.\n",
    "\n",
    "However, whenever satellite data is used for we need to keep in mind the limitation of the data. Images are acquired from space and light must travel through different layers of atmosphere before it reaches the sensors. Spatial and temporal resolutions are limited and clouds or shades can obscure the scene in which we are interested. We need to take these factors into consideration when interpreting satellite images. \n"
   ]
  },
  {
   "cell_type": "markdown",
   "metadata": {},
   "source": [
    "# Other Resources to Check\n",
    "\n",
    "If you find this interesting, you might also want to check out:\n",
    "\n",
    "-\tEO Browser: https://apps.sentinel-hub.com/eo-browser/\n",
    "\n",
    "-\tSentinel Playground: https://apps.sentinel-hub.com/sentinel-playground/\n",
    "\n",
    "-\tGlobal for est watch:  https://fires.globalforestwatch.org/map/#activeLayers=viirsFires%2CactiveFires%2CfireStories%2Ctwitter&activeBasemap=topo&activeImagery=&planetCategory=PLANET-MONTHLY&planetPeriod=Aug%202018&x=-12&y=18&z=3\n",
    "\n",
    "-\tEuropean, Rapid Damage Assessment:  http://effis.jrc.ec.europa.eu/about-effis/technical-background/rapid-damage-assessment/ \n",
    "\n",
    "-\tCopernicus, Emergency Management Service http://effis.jrc.ec.europa.eu/static/effis_current_situation/public/index.html\n",
    "\n",
    "-\tDrought and heat exacerbate wildfires: https://public.wmo.int/en/media/news/drought-and-heat-exacerbate-wildfires \n",
    "\n",
    "-\tFrom California to Siberia: satellite images of wildfires around the world: https://unearthed.greenpeace.org/2018/08/10/california-wildfires-nasa-satellite-map/\n",
    "\n",
    "-\tLandsat Image Maps Aid Fire Recovery Efforts: https://landsat.gsfc.nasa.gov/landsat-image-maps-aid-fire-recovery-efforts/ \n",
    "\n",
    "-\tDetection of burned areas with Machine Learning: https://webthesis.biblio.polito.it/8197/1/tesi.pdf\n"
   ]
  }
 ],
 "metadata": {
  "kernelspec": {
   "display_name": "Python 3",
   "language": "python",
   "name": "python3"
  },
  "language_info": {
   "codemirror_mode": {
    "name": "ipython",
    "version": 3
   },
   "file_extension": ".py",
   "mimetype": "text/x-python",
   "name": "python",
   "nbconvert_exporter": "python",
   "pygments_lexer": "ipython3",
   "version": "3.6.3"
  }
 },
 "nbformat": 4,
 "nbformat_minor": 2
}
